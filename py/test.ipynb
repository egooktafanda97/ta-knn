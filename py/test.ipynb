{
 "cells": [
  {
   "cell_type": "code",
   "execution_count": 42,
   "metadata": {},
   "outputs": [
    {
     "name": "stdout",
     "output_type": "stream",
     "text": [
      "     nama_barang    rata_rata\n",
      "0             Ac    53.750000\n",
      "1           Baju    63.666667\n",
      "2       Beras/kg  5754.166667\n",
      "3         Celana    53.083333\n",
      "4    Dress/gamis    83.000000\n",
      "5        Gula/kg  3941.666667\n",
      "6          Hijab   195.000000\n",
      "7    Kipas angin    56.666667\n",
      "8         Kulkas    33.500000\n",
      "9     Mesin Cuci    35.416667\n",
      "10  Minyak/liter  3675.000000\n",
      "11   Susu/kaleng  1004.166667\n",
      "12           Tas    23.083333\n",
      "13   Telur/papan   617.916667\n",
      "14            Tv    43.500000\n"
     ]
    }
   ],
   "source": [
    "import pandas as pd\n",
    "import math\n",
    "from sklearn.model_selection import train_test_split\n",
    "import os\n",
    "import json\n",
    "import csv\n",
    "\n",
    "# Membaca data dari file CSV\n",
    "data = pd.read_csv('data/dataset.csv', on_bad_lines='skip')\n",
    "\n",
    "# Calculate the average (rata-rata) for each nama_barang\n",
    "rata_rata = data.groupby(\"nama_barang\")[\"jumlah_terjual\"].mean().reset_index()\n",
    "rata_rata.rename(columns={\"jumlah_terjual\": \"rata_rata\"}, inplace=True)\n",
    "df = pd.DataFrame(rata_rata)\n",
    "print(df)\n"
   ]
  }
 ],
 "metadata": {
  "kernelspec": {
   "display_name": "Python 3",
   "language": "python",
   "name": "python3"
  },
  "language_info": {
   "codemirror_mode": {
    "name": "ipython",
    "version": 3
   },
   "file_extension": ".py",
   "mimetype": "text/x-python",
   "name": "python",
   "nbconvert_exporter": "python",
   "pygments_lexer": "ipython3",
   "version": "3.10.11"
  },
  "orig_nbformat": 4
 },
 "nbformat": 4,
 "nbformat_minor": 2
}
